{
  "nbformat": 4,
  "nbformat_minor": 0,
  "metadata": {
    "colab": {
      "name": "Customer_complaint_classification.ipynb",
      "provenance": [],
      "collapsed_sections": [],
      "toc_visible": true,
      "mount_file_id": "1-BEwnuXxiTMKzJjrfY-YEe4irS6pRoaw",
      "authorship_tag": "ABX9TyMKXR7zNE9mdnDHhLL+J+Or",
      "include_colab_link": true
    },
    "kernelspec": {
      "name": "python3",
      "display_name": "Python 3"
    },
    "language_info": {
      "name": "python"
    }
  },
  "cells": [
    {
      "cell_type": "markdown",
      "metadata": {
        "id": "view-in-github",
        "colab_type": "text"
      },
      "source": [
        "<a href=\"https://colab.research.google.com/github/pogoryelov/Customer-complaint-classification/blob/main/Customer_complaint_classification.ipynb\" target=\"_parent\"><img src=\"https://colab.research.google.com/assets/colab-badge.svg\" alt=\"Open In Colab\"/></a>"
      ]
    },
    {
      "cell_type": "markdown",
      "source": [
        "# **Customer complaint case**\n",
        "\n",
        "The Consumer Complaint Database is a collection of complaints about consumer financial products and services.\n",
        "\n",
        "The task is to develop a ML model that takes in the ‘Consumer complaint narrative’ text field and predicts the Product for the complaint. "
      ],
      "metadata": {
        "id": "tWx1xtuEqii_"
      }
    },
    {
      "cell_type": "markdown",
      "source": [
        "# **1. Load libraries & Import data**"
      ],
      "metadata": {
        "id": "hkFTFJCobVQ0"
      }
    },
    {
      "cell_type": "markdown",
      "source": [
        "## Load libraries"
      ],
      "metadata": {
        "id": "IwKmCyKJcnac"
      }
    },
    {
      "cell_type": "code",
      "execution_count": null,
      "metadata": {
        "id": "kW3c5g_n6ycb"
      },
      "outputs": [],
      "source": [
        "import requests\n",
        "import pandas as pd\n",
        "import numpy as np\n",
        "from zipfile import ZipFile\n",
        "from io import BytesIO\n",
        "\n",
        "import matplotlib.pyplot as plt\n",
        "import seaborn as sns\n",
        "\n",
        "from sklearn.feature_extraction.text import TfidfVectorizer\n",
        "\n",
        "from sklearn.model_selection import train_test_split\n",
        "from sklearn.linear_model import LogisticRegression\n",
        "from sklearn.naive_bayes import MultinomialNB\n",
        "from sklearn.svm import LinearSVC\n",
        "\n",
        "from sklearn.model_selection import cross_val_score\n",
        "from sklearn.metrics import confusion_matrix\n",
        "from sklearn import metrics"
      ]
    },
    {
      "cell_type": "markdown",
      "source": [
        "## Import data"
      ],
      "metadata": {
        "id": "q-JZi45qcfVG"
      }
    },
    {
      "cell_type": "code",
      "source": [
        "# Load data from pre-downloaded dataset into Pandas DataFrame\n",
        "# zf = ZipFile('/content/drive/MyDrive/TestCase/If/complaints.csv.zip')\n",
        "\n",
        "# Load CSV file into dataframe\n",
        "# df = pd.read_csv(zf.open(\"complaints.csv\"))"
      ],
      "metadata": {
        "colab": {
          "base_uri": "https://localhost:8080/"
        },
        "id": "uWs_Vq-zbl8Y",
        "outputId": "c4525baa-a0ff-4409-abd3-a0b2e415de25"
      },
      "execution_count": null,
      "outputs": [
        {
          "output_type": "stream",
          "name": "stderr",
          "text": [
            "/usr/local/lib/python3.7/dist-packages/IPython/core/interactiveshell.py:2882: DtypeWarning: Columns (9) have mixed types.Specify dtype option on import or set low_memory=False.\n",
            "  exec(code_obj, self.user_global_ns, self.user_ns)\n"
          ]
        }
      ]
    },
    {
      "cell_type": "code",
      "source": [
        "# # Download the data from the source and load into Pandas DataFrame\n",
        "r = requests.get(\"https://files.consumerfinance.gov/ccdb/complaints.csv.zip\")\n",
        "\n",
        "# # Unzip data archive\n",
        "files = ZipFile(BytesIO(r.content))\n",
        "\n",
        "# # Load CSV file into dataframe\n",
        "df = pd.read_csv(files.open(\"complaints.csv\"))"
      ],
      "metadata": {
        "id": "HfFiNeA4biqu"
      },
      "execution_count": null,
      "outputs": []
    },
    {
      "cell_type": "markdown",
      "source": [
        "# **2. Exploratory data analysis and data preparation**"
      ],
      "metadata": {
        "id": "Gi0eqSMijhlf"
      }
    },
    {
      "cell_type": "markdown",
      "source": [
        "The full dataset contains of over 2.7 million rows and 18 features"
      ],
      "metadata": {
        "id": "3dFYlPqxe7Hx"
      }
    },
    {
      "cell_type": "code",
      "source": [
        "df.shape"
      ],
      "metadata": {
        "colab": {
          "base_uri": "https://localhost:8080/"
        },
        "id": "5fQnzrf8ewkw",
        "outputId": "a3e8b1e0-e093-4dc6-d3a0-6256af9ae042"
      },
      "execution_count": null,
      "outputs": [
        {
          "output_type": "execute_result",
          "data": {
            "text/plain": [
              "(2731880, 18)"
            ]
          },
          "metadata": {},
          "execution_count": 4
        }
      ]
    },
    {
      "cell_type": "code",
      "source": [
        "# Percentage of complaints with text\n",
        "total = df['Consumer complaint narrative'].notnull().sum()\n",
        "round((total/len(df)*100),1)"
      ],
      "metadata": {
        "colab": {
          "base_uri": "https://localhost:8080/"
        },
        "id": "srJ4Cr_yitD3",
        "outputId": "5c077cf5-a2e7-45e7-a4fc-bce0cca02783"
      },
      "execution_count": null,
      "outputs": [
        {
          "output_type": "execute_result",
          "data": {
            "text/plain": [
              "35.2"
            ]
          },
          "metadata": {},
          "execution_count": 5
        }
      ]
    },
    {
      "cell_type": "markdown",
      "source": [
        "Since our task is to predict which Product is to recommend based on consumer's complaint, we can only select those two fields.\n",
        "\n",
        "At the same time we also remove all the rows with the missing values. This would reduce the size of the dataset little below 1 million rows (which is about 35% from the full dataset length)"
      ],
      "metadata": {
        "id": "phMlcxO-c90S"
      }
    },
    {
      "cell_type": "code",
      "source": [
        "# Create the case dataframe with two relevant features and remove missing values\n",
        "df_case = df[['Product', 'Consumer complaint narrative']].dropna()\n",
        "\n",
        "print(df_case.shape)\n",
        "df_case.head(10)"
      ],
      "metadata": {
        "colab": {
          "base_uri": "https://localhost:8080/",
          "height": 380
        },
        "id": "3yvOLoTMAFIm",
        "outputId": "f0635960-ae8f-42ab-e6d4-e80d2dd46195"
      },
      "execution_count": null,
      "outputs": [
        {
          "output_type": "stream",
          "name": "stdout",
          "text": [
            "(960852, 2)\n"
          ]
        },
        {
          "output_type": "execute_result",
          "data": {
            "text/plain": [
              "                                              Product  \\\n",
              "3   Credit reporting, credit repair services, or o...   \n",
              "7                                            Mortgage   \n",
              "31                                    Debt collection   \n",
              "43  Credit reporting, credit repair services, or o...   \n",
              "48  Credit reporting, credit repair services, or o...   \n",
              "49                        Credit card or prepaid card   \n",
              "61                                    Debt collection   \n",
              "63  Credit reporting, credit repair services, or o...   \n",
              "68  Credit reporting, credit repair services, or o...   \n",
              "70  Credit reporting, credit repair services, or o...   \n",
              "\n",
              "                         Consumer complaint narrative  \n",
              "3   In accordance with the Fair Credit Reporting a...  \n",
              "7   The mortgage bank has not been crediting my VA...  \n",
              "31    XXXX XXXX never sent information to verify debt  \n",
              "43  In accordance with the Fair Credit Reporting A...  \n",
              "48  Over the course of 30 days I have filed a disp...  \n",
              "49  Please reopen case XXXX, Nothing has been reso...  \n",
              "61  I have not received information to verify this...  \n",
              "63  To Whom It May Concern, Please be advised that...  \n",
              "68  I AM A NATURAL PERSON & CONSUMER FILING THIS C...  \n",
              "70  In accordance with the Fair Credit Reporting a...  "
            ],
            "text/html": [
              "\n",
              "  <div id=\"df-72329d38-ade8-434f-93e1-27d42a7f31e7\">\n",
              "    <div class=\"colab-df-container\">\n",
              "      <div>\n",
              "<style scoped>\n",
              "    .dataframe tbody tr th:only-of-type {\n",
              "        vertical-align: middle;\n",
              "    }\n",
              "\n",
              "    .dataframe tbody tr th {\n",
              "        vertical-align: top;\n",
              "    }\n",
              "\n",
              "    .dataframe thead th {\n",
              "        text-align: right;\n",
              "    }\n",
              "</style>\n",
              "<table border=\"1\" class=\"dataframe\">\n",
              "  <thead>\n",
              "    <tr style=\"text-align: right;\">\n",
              "      <th></th>\n",
              "      <th>Product</th>\n",
              "      <th>Consumer complaint narrative</th>\n",
              "    </tr>\n",
              "  </thead>\n",
              "  <tbody>\n",
              "    <tr>\n",
              "      <th>3</th>\n",
              "      <td>Credit reporting, credit repair services, or o...</td>\n",
              "      <td>In accordance with the Fair Credit Reporting a...</td>\n",
              "    </tr>\n",
              "    <tr>\n",
              "      <th>7</th>\n",
              "      <td>Mortgage</td>\n",
              "      <td>The mortgage bank has not been crediting my VA...</td>\n",
              "    </tr>\n",
              "    <tr>\n",
              "      <th>31</th>\n",
              "      <td>Debt collection</td>\n",
              "      <td>XXXX XXXX never sent information to verify debt</td>\n",
              "    </tr>\n",
              "    <tr>\n",
              "      <th>43</th>\n",
              "      <td>Credit reporting, credit repair services, or o...</td>\n",
              "      <td>In accordance with the Fair Credit Reporting A...</td>\n",
              "    </tr>\n",
              "    <tr>\n",
              "      <th>48</th>\n",
              "      <td>Credit reporting, credit repair services, or o...</td>\n",
              "      <td>Over the course of 30 days I have filed a disp...</td>\n",
              "    </tr>\n",
              "    <tr>\n",
              "      <th>49</th>\n",
              "      <td>Credit card or prepaid card</td>\n",
              "      <td>Please reopen case XXXX, Nothing has been reso...</td>\n",
              "    </tr>\n",
              "    <tr>\n",
              "      <th>61</th>\n",
              "      <td>Debt collection</td>\n",
              "      <td>I have not received information to verify this...</td>\n",
              "    </tr>\n",
              "    <tr>\n",
              "      <th>63</th>\n",
              "      <td>Credit reporting, credit repair services, or o...</td>\n",
              "      <td>To Whom It May Concern, Please be advised that...</td>\n",
              "    </tr>\n",
              "    <tr>\n",
              "      <th>68</th>\n",
              "      <td>Credit reporting, credit repair services, or o...</td>\n",
              "      <td>I AM A NATURAL PERSON &amp; CONSUMER FILING THIS C...</td>\n",
              "    </tr>\n",
              "    <tr>\n",
              "      <th>70</th>\n",
              "      <td>Credit reporting, credit repair services, or o...</td>\n",
              "      <td>In accordance with the Fair Credit Reporting a...</td>\n",
              "    </tr>\n",
              "  </tbody>\n",
              "</table>\n",
              "</div>\n",
              "      <button class=\"colab-df-convert\" onclick=\"convertToInteractive('df-72329d38-ade8-434f-93e1-27d42a7f31e7')\"\n",
              "              title=\"Convert this dataframe to an interactive table.\"\n",
              "              style=\"display:none;\">\n",
              "        \n",
              "  <svg xmlns=\"http://www.w3.org/2000/svg\" height=\"24px\"viewBox=\"0 0 24 24\"\n",
              "       width=\"24px\">\n",
              "    <path d=\"M0 0h24v24H0V0z\" fill=\"none\"/>\n",
              "    <path d=\"M18.56 5.44l.94 2.06.94-2.06 2.06-.94-2.06-.94-.94-2.06-.94 2.06-2.06.94zm-11 1L8.5 8.5l.94-2.06 2.06-.94-2.06-.94L8.5 2.5l-.94 2.06-2.06.94zm10 10l.94 2.06.94-2.06 2.06-.94-2.06-.94-.94-2.06-.94 2.06-2.06.94z\"/><path d=\"M17.41 7.96l-1.37-1.37c-.4-.4-.92-.59-1.43-.59-.52 0-1.04.2-1.43.59L10.3 9.45l-7.72 7.72c-.78.78-.78 2.05 0 2.83L4 21.41c.39.39.9.59 1.41.59.51 0 1.02-.2 1.41-.59l7.78-7.78 2.81-2.81c.8-.78.8-2.07 0-2.86zM5.41 20L4 18.59l7.72-7.72 1.47 1.35L5.41 20z\"/>\n",
              "  </svg>\n",
              "      </button>\n",
              "      \n",
              "  <style>\n",
              "    .colab-df-container {\n",
              "      display:flex;\n",
              "      flex-wrap:wrap;\n",
              "      gap: 12px;\n",
              "    }\n",
              "\n",
              "    .colab-df-convert {\n",
              "      background-color: #E8F0FE;\n",
              "      border: none;\n",
              "      border-radius: 50%;\n",
              "      cursor: pointer;\n",
              "      display: none;\n",
              "      fill: #1967D2;\n",
              "      height: 32px;\n",
              "      padding: 0 0 0 0;\n",
              "      width: 32px;\n",
              "    }\n",
              "\n",
              "    .colab-df-convert:hover {\n",
              "      background-color: #E2EBFA;\n",
              "      box-shadow: 0px 1px 2px rgba(60, 64, 67, 0.3), 0px 1px 3px 1px rgba(60, 64, 67, 0.15);\n",
              "      fill: #174EA6;\n",
              "    }\n",
              "\n",
              "    [theme=dark] .colab-df-convert {\n",
              "      background-color: #3B4455;\n",
              "      fill: #D2E3FC;\n",
              "    }\n",
              "\n",
              "    [theme=dark] .colab-df-convert:hover {\n",
              "      background-color: #434B5C;\n",
              "      box-shadow: 0px 1px 3px 1px rgba(0, 0, 0, 0.15);\n",
              "      filter: drop-shadow(0px 1px 2px rgba(0, 0, 0, 0.3));\n",
              "      fill: #FFFFFF;\n",
              "    }\n",
              "  </style>\n",
              "\n",
              "      <script>\n",
              "        const buttonEl =\n",
              "          document.querySelector('#df-72329d38-ade8-434f-93e1-27d42a7f31e7 button.colab-df-convert');\n",
              "        buttonEl.style.display =\n",
              "          google.colab.kernel.accessAllowed ? 'block' : 'none';\n",
              "\n",
              "        async function convertToInteractive(key) {\n",
              "          const element = document.querySelector('#df-72329d38-ade8-434f-93e1-27d42a7f31e7');\n",
              "          const dataTable =\n",
              "            await google.colab.kernel.invokeFunction('convertToInteractive',\n",
              "                                                     [key], {});\n",
              "          if (!dataTable) return;\n",
              "\n",
              "          const docLinkHtml = 'Like what you see? Visit the ' +\n",
              "            '<a target=\"_blank\" href=https://colab.research.google.com/notebooks/data_table.ipynb>data table notebook</a>'\n",
              "            + ' to learn more about interactive tables.';\n",
              "          element.innerHTML = '';\n",
              "          dataTable['output_type'] = 'display_data';\n",
              "          await google.colab.output.renderOutput(dataTable, element);\n",
              "          const docLink = document.createElement('div');\n",
              "          docLink.innerHTML = docLinkHtml;\n",
              "          element.appendChild(docLink);\n",
              "        }\n",
              "      </script>\n",
              "    </div>\n",
              "  </div>\n",
              "  "
            ]
          },
          "metadata": {},
          "execution_count": 6
        }
      ]
    },
    {
      "cell_type": "markdown",
      "source": [
        "Next we can check what are the categories (Products) into which we need to classify consumer complaints:"
      ],
      "metadata": {
        "id": "tXokyChrkEtZ"
      }
    },
    {
      "cell_type": "code",
      "source": [
        "# List all unique Products\n",
        "feature_len = len(pd.DataFrame(df_case.Product.unique()))\n",
        "print(f'Number of unique products: {feature_len}')\n",
        "pd.DataFrame(df_case.Product.unique()).values"
      ],
      "metadata": {
        "colab": {
          "base_uri": "https://localhost:8080/"
        },
        "id": "nwkbVMBvAgr3",
        "outputId": "d42ebf2b-088f-4a91-cf11-e9efb933a8d2"
      },
      "execution_count": null,
      "outputs": [
        {
          "output_type": "stream",
          "name": "stdout",
          "text": [
            "Number of unique products: 18\n"
          ]
        },
        {
          "output_type": "execute_result",
          "data": {
            "text/plain": [
              "array([['Credit reporting, credit repair services, or other personal consumer reports'],\n",
              "       ['Mortgage'],\n",
              "       ['Debt collection'],\n",
              "       ['Credit card or prepaid card'],\n",
              "       ['Vehicle loan or lease'],\n",
              "       ['Checking or savings account'],\n",
              "       ['Payday loan, title loan, or personal loan'],\n",
              "       ['Student loan'],\n",
              "       ['Money transfer, virtual currency, or money service'],\n",
              "       ['Consumer Loan'],\n",
              "       ['Payday loan'],\n",
              "       ['Credit card'],\n",
              "       ['Bank account or service'],\n",
              "       ['Credit reporting'],\n",
              "       ['Other financial service'],\n",
              "       ['Money transfers'],\n",
              "       ['Prepaid card'],\n",
              "       ['Virtual currency']], dtype=object)"
            ]
          },
          "metadata": {},
          "execution_count": 7
        }
      ]
    },
    {
      "cell_type": "markdown",
      "source": [
        "There are overall 18 diferent products. However we can see that some of the products are overlapping, e.g., *'Credit card or prepaid card'* includes in itself separate products *'Credit card'* and *'Prepaid card'*.\n",
        "\n",
        "To avoid future confusion of the classification which might result in degraded model performance we can rename certain categories (Products) and as a result merge them into one."
      ],
      "metadata": {
        "id": "Sb9DahTxkhyo"
      }
    },
    {
      "cell_type": "code",
      "source": [
        "# Rename categories\n",
        "df_case_merge = df_case.replace({'Product': \n",
        "             {'Credit reporting': 'Credit reporting, credit repair services, or other personal consumer reports',\n",
        "             'Credit card': 'Credit card or prepaid card',\n",
        "             'Prepaid card': 'Credit card or prepaid card',\n",
        "             'Payday loan': 'Payday loan, title loan, or personal loan',\n",
        "             'Money transfers': 'Money transfer, virtual currency, or money service',\n",
        "             'Virtual currency': 'Money transfer, virtual currency, or money service'}}\n",
        "             )"
      ],
      "metadata": {
        "id": "f22-B8BS-QPE"
      },
      "execution_count": null,
      "outputs": []
    },
    {
      "cell_type": "code",
      "source": [
        "# List all unique Products\n",
        "feature_len = len(pd.DataFrame(df_case_merge.Product.unique()))\n",
        "print(f'Number of unique products: {feature_len}')\n",
        "pd.DataFrame(df_case_merge.Product.unique()).values"
      ],
      "metadata": {
        "colab": {
          "base_uri": "https://localhost:8080/"
        },
        "id": "R-FM7SG7n87S",
        "outputId": "6cb2fed7-2817-49eb-d6a8-953fd928c8c6"
      },
      "execution_count": null,
      "outputs": [
        {
          "output_type": "stream",
          "name": "stdout",
          "text": [
            "Number of unique products: 12\n"
          ]
        },
        {
          "output_type": "execute_result",
          "data": {
            "text/plain": [
              "array([['Credit reporting, credit repair services, or other personal consumer reports'],\n",
              "       ['Mortgage'],\n",
              "       ['Debt collection'],\n",
              "       ['Credit card or prepaid card'],\n",
              "       ['Vehicle loan or lease'],\n",
              "       ['Checking or savings account'],\n",
              "       ['Payday loan, title loan, or personal loan'],\n",
              "       ['Student loan'],\n",
              "       ['Money transfer, virtual currency, or money service'],\n",
              "       ['Consumer Loan'],\n",
              "       ['Bank account or service'],\n",
              "       ['Other financial service']], dtype=object)"
            ]
          },
          "metadata": {},
          "execution_count": 9
        }
      ]
    },
    {
      "cell_type": "markdown",
      "source": [
        "We can now dig into how many complaints are in each category. To do that we will plot a bar chart and sort by number of complaints"
      ],
      "metadata": {
        "id": "Xje1pz0ZqkOZ"
      }
    },
    {
      "cell_type": "code",
      "source": [
        "fig = plt.figure(figsize=(10,5))\n",
        "df_case_merge.groupby('Product')['Consumer complaint narrative'].count().sort_values().plot.barh(\n",
        "    ylim=0, title= 'Number of complaints in each Product category\\n', fontsize = 12)\n",
        "plt.xlabel('Number of occurrences', fontsize = 12);"
      ],
      "metadata": {
        "colab": {
          "base_uri": "https://localhost:8080/",
          "height": 371
        },
        "id": "GOJKh40wqPCM",
        "outputId": "1a30f817-dc89-4e9f-c4db-a8b6ecd31522"
      },
      "execution_count": null,
      "outputs": [
        {
          "output_type": "display_data",
          "data": {
            "text/plain": [
              "<Figure size 720x360 with 1 Axes>"
            ],
            "image/png": "[encoded data removed]"
          },
          "metadata": {
            "needs_background": "light"
          }
        }
      ]
    },
    {
      "cell_type": "markdown",
      "source": [
        "To simplify the modelling at this point let us only select the top 5 product categories by the number of complaints"
      ],
      "metadata": {
        "id": "L2mYoTK9zaTw"
      }
    },
    {
      "cell_type": "code",
      "source": [
        "# Show top 5 product categories (by count of complaints)\n",
        "df_case_merge['Product'].value_counts().sort_values(ascending=False).head(5)"
      ],
      "metadata": {
        "colab": {
          "base_uri": "https://localhost:8080/"
        },
        "id": "KX_PriBR8ArO",
        "outputId": "9bb6c159-5a27-4424-b568-aaeb4acbc73a"
      },
      "execution_count": null,
      "outputs": [
        {
          "output_type": "execute_result",
          "data": {
            "text/plain": [
              "Credit reporting, credit repair services, or other personal consumer reports    438480\n",
              "Debt collection                                                                 178914\n",
              "Credit card or prepaid card                                                      92710\n",
              "Mortgage                                                                         92657\n",
              "Checking or savings account                                                      46220\n",
              "Name: Product, dtype: int64"
            ]
          },
          "metadata": {},
          "execution_count": 11
        }
      ]
    },
    {
      "cell_type": "code",
      "source": [
        "# Select top 5 product categories\n",
        "keep_values = ['Credit reporting, credit repair services, or other personal consumer reports',\n",
        "               'Debt collection',\n",
        "               'Credit card or prepaid card',\n",
        "               'Mortgage',\n",
        "               'Checking or savings account'\n",
        "               ]\n",
        "df_case_top = df_case_merge.copy()\n",
        "df_case_top = df_case_top[df_case_top['Product'].str.contains('|'.join(keep_values))]"
      ],
      "metadata": {
        "id": "KrDQ1GicHcp0"
      },
      "execution_count": null,
      "outputs": []
    },
    {
      "cell_type": "markdown",
      "source": [
        "We can represent each of the selected categories as a number. That would help our predictive model to better handle different categories."
      ],
      "metadata": {
        "id": "ZYCz6E-Qoqa5"
      }
    },
    {
      "cell_type": "code",
      "source": [
        "# Create a new column 'category_id' with encoded categories \n",
        "df_case_top['category_id'] = df_case_top['Product'].factorize()[0]"
      ],
      "metadata": {
        "colab": {
          "base_uri": "https://localhost:8080/"
        },
        "id": "RhfjLjPYo8tw",
        "outputId": "569fb8f2-58b5-4064-cbf9-fc67916d2a07"
      },
      "execution_count": null,
      "outputs": [
        {
          "output_type": "stream",
          "name": "stderr",
          "text": [
            "/usr/local/lib/python3.7/dist-packages/ipykernel_launcher.py:2: SettingWithCopyWarning: \n",
            "A value is trying to be set on a copy of a slice from a DataFrame.\n",
            "Try using .loc[row_indexer,col_indexer] = value instead\n",
            "\n",
            "See the caveats in the documentation: https://pandas.pydata.org/pandas-docs/stable/user_guide/indexing.html#returning-a-view-versus-a-copy\n",
            "  \n"
          ]
        }
      ]
    },
    {
      "cell_type": "markdown",
      "source": [
        "At this point it is also useful to make sure that later we can easily recover category names from category ID's. For that we can create dictionaries:"
      ],
      "metadata": {
        "id": "-FzkAiTppdpd"
      }
    },
    {
      "cell_type": "code",
      "source": [
        "# Make a list of unique categories and their IDs\n",
        "df_category_id = df_case_top[['Product', 'category_id']].drop_duplicates()\n",
        "\n",
        "# Create dictionaries\n",
        "category_to_id = dict(df_category_id.values)\n",
        "id_to_category = dict(df_category_id[['category_id', 'Product']].values)"
      ],
      "metadata": {
        "id": "KYjbNdwopTxC"
      },
      "execution_count": null,
      "outputs": []
    },
    {
      "cell_type": "markdown",
      "source": [
        "In order to further reduce the computation time at this point we can sample the data"
      ],
      "metadata": {
        "id": "ZeZsZIav1mQW"
      }
    },
    {
      "cell_type": "code",
      "source": [
        "# Create a sampled dataframe\n",
        "df_case_sample = df_case_top.sample(10000, random_state=42).copy()"
      ],
      "metadata": {
        "id": "8X4HeJ991Yn-"
      },
      "execution_count": null,
      "outputs": []
    },
    {
      "cell_type": "code",
      "source": [
        "df_case_sample.info()"
      ],
      "metadata": {
        "colab": {
          "base_uri": "https://localhost:8080/"
        },
        "id": "ZGeQWhL21zA8",
        "outputId": "b056b921-33e0-4368-e917-17718d78976f"
      },
      "execution_count": null,
      "outputs": [
        {
          "output_type": "stream",
          "name": "stdout",
          "text": [
            "<class 'pandas.core.frame.DataFrame'>\n",
            "Int64Index: 10000 entries, 1833700 to 1514610\n",
            "Data columns (total 3 columns):\n",
            " #   Column                        Non-Null Count  Dtype \n",
            "---  ------                        --------------  ----- \n",
            " 0   Product                       10000 non-null  object\n",
            " 1   Consumer complaint narrative  10000 non-null  object\n",
            " 2   category_id                   10000 non-null  int64 \n",
            "dtypes: int64(1), object(2)\n",
            "memory usage: 312.5+ KB\n"
          ]
        }
      ]
    },
    {
      "cell_type": "markdown",
      "source": [
        "# **3. Text Preprocessing**"
      ],
      "metadata": {
        "id": "lIMfsCeXvTWJ"
      }
    },
    {
      "cell_type": "markdown",
      "source": [
        "Whenever we apply any algorithm to textual data, we need to convert the text to a numeric form. Hence, there arises a need for some pre-processing techniques that can convert our text to numbers. Both bag-of-words (BOW) and TFIDF are pre-processing techniques that can generate a numeric form from an input text.\n",
        "\n",
        "* **Bag-of-Words**\n",
        "\n",
        "The bag-of-words model converts text into fixed-length vectors by counting how many times each word appears.\n",
        "\n",
        "However Bag-of-words does not bring in any information on the meaning of the text. Sometimes simply the word order in the sentence changes its meaning, but bag-of-words model would create the same vectors in each case.\n",
        "\n",
        "* **Term Frequency Inverse Document Frequency (TFIDF)**\n",
        "\n",
        "TFIDF works by proportionally increasing the number of times a word appears in the document but is counterbalanced by the number of documents in which it is present. Hence, words like ‘this’, ’are’ etc., that are commonly present in all the documents are not given a very high rank. However, a word that is present too many times in a few of the documents will be given a higher rank as it might be indicative of the context of the document.\n",
        "\n",
        "The limitation of TFIDF is again that this vectorization doesn’t help in bringing in the contextual meaning of the words as it is just based on the frequency.\n",
        "\n",
        "For our case study TFIDF algorythm will be more suitable.\n"
      ],
      "metadata": {
        "id": "SM3coeBL0WPA"
      }
    },
    {
      "cell_type": "code",
      "source": [
        "# We transform each complaint into a vector\n",
        "vectorizer = TfidfVectorizer(sublinear_tf=True, min_df=5, max_df=.95, ngram_range=(1, 2), stop_words='english')\n",
        "\n",
        "X_vect = vectorizer.fit_transform(df_case_sample['Consumer complaint narrative']).toarray()\n",
        "y = df_case_sample.category_id"
      ],
      "metadata": {
        "id": "i_0hTSzZrUdf"
      },
      "execution_count": null,
      "outputs": []
    },
    {
      "cell_type": "markdown",
      "source": [
        "# **4. Model selection**"
      ],
      "metadata": {
        "id": "P3cOxVHg6j0l"
      }
    },
    {
      "cell_type": "markdown",
      "source": [
        "Since our task is to classify the textual data we need to select the model suitable for that task.\n",
        "\n",
        "However as we are not sure which model would perform best in our particular case we can first select several models applicable for text classification and after initial evaluation choose the one that performs best.\n",
        "\n",
        "Here are the models that will be evaluated:\n",
        "\n",
        "* **Multinomial Naive Bayes**\n",
        "> Multinomial Naive Bayes algorithm is a probabilistic learning method that is mostly used in Natural Language Processing (NLP). The algorithm is based on the Bayes theorem and predicts the tag of a text such as a piece of email or newspaper article. It calculates the probability of each tag for a given sample and then gives the tag with the highest probability as output. Naive Bayes classifier is a collection of many algorithms where all the algorithms share one common principle, and that is each feature being classified is not related to any other feature. The presence or absence of a feature does not affect the presence or absence of the other feature.\n",
        "\n",
        "* **Linear Support Vector Machine**\n",
        "> For the text classification process, the SVM algorithm categorizes the classes of a given dataset by determining the best hyperplane or boundary line that divides the given text data into predefined groups. The SVM algorithm creates multiple hyperplanes, but the objective is to find the best hyperplane that accurately divides both classes. The best hyperplane is selected by selecting the hyperplane with the maximum distance from data points of both classes. The vectors or data points nearer to the hyperplane are called support vectors, which highly influence the position and distance of the optimal hyperplane.\n",
        "\n",
        "* **Logistic Regression**\n",
        "> Logistic regression is widely used in machine learning for all sorts of classification problems and is especially popular for text classification. The logistic regression classifier uses the weighted combination of the input features and passes them through a sigmoid function. Sigmoid function transforms any real number input, to a number between 0 and 1."
      ],
      "metadata": {
        "id": "BlrAOb-D8pec"
      }
    },
    {
      "cell_type": "code",
      "source": [
        "models = [\n",
        "    MultinomialNB(),\n",
        "    LinearSVC(random_state=42),\n",
        "    LogisticRegression(random_state=42, max_iter = 200)\n",
        "    ]\n",
        "\n",
        "# 5 Cross-validation\n",
        "CV = 5\n",
        "cv_df = pd.DataFrame(index=range(CV * len(models)))\n",
        "\n",
        "entries = []\n",
        "for model in models:\n",
        "  model_name = model.__class__.__name__\n",
        "  accuracies = cross_val_score(model, X_vect, y, scoring='accuracy', cv=CV)\n",
        "  for fold_idx, accuracy in enumerate(accuracies):\n",
        "    entries.append((model_name, fold_idx, accuracy))\n",
        "    \n",
        "cv_df = pd.DataFrame(entries, columns=['model_name', 'fold_idx', 'accuracy'])"
      ],
      "metadata": {
        "id": "acTD2nM_YHNu"
      },
      "execution_count": null,
      "outputs": []
    },
    {
      "cell_type": "code",
      "source": [
        "mean_accuracy = cv_df.groupby('model_name').accuracy.mean()\n",
        "std_accuracy = cv_df.groupby('model_name').accuracy.std()\n",
        "\n",
        "acc = pd.concat([mean_accuracy, std_accuracy], axis= 1, \n",
        "          ignore_index=True)\n",
        "acc.columns = ['Mean Accuracy', 'Standard deviation']\n",
        "acc"
      ],
      "metadata": {
        "colab": {
          "base_uri": "https://localhost:8080/",
          "height": 175
        },
        "id": "x8Tlqa-EYS5V",
        "outputId": "bd0c2eab-b901-4f80-de78-9b4e92a5debf"
      },
      "execution_count": null,
      "outputs": [
        {
          "output_type": "execute_result",
          "data": {
            "text/plain": [
              "                    Mean Accuracy  Standard deviation\n",
              "model_name                                           \n",
              "LinearSVC                  0.8600            0.008631\n",
              "LogisticRegression         0.8518            0.004251\n",
              "MultinomialNB              0.7273            0.007379"
            ],
            "text/html": [
              "\n",
              "  <div id=\"df-1778ed8b-80dd-489c-8869-ea922c866a7f\">\n",
              "    <div class=\"colab-df-container\">\n",
              "      <div>\n",
              "<style scoped>\n",
              "    .dataframe tbody tr th:only-of-type {\n",
              "        vertical-align: middle;\n",
              "    }\n",
              "\n",
              "    .dataframe tbody tr th {\n",
              "        vertical-align: top;\n",
              "    }\n",
              "\n",
              "    .dataframe thead th {\n",
              "        text-align: right;\n",
              "    }\n",
              "</style>\n",
              "<table border=\"1\" class=\"dataframe\">\n",
              "  <thead>\n",
              "    <tr style=\"text-align: right;\">\n",
              "      <th></th>\n",
              "      <th>Mean Accuracy</th>\n",
              "      <th>Standard deviation</th>\n",
              "    </tr>\n",
              "    <tr>\n",
              "      <th>model_name</th>\n",
              "      <th></th>\n",
              "      <th></th>\n",
              "    </tr>\n",
              "  </thead>\n",
              "  <tbody>\n",
              "    <tr>\n",
              "      <th>LinearSVC</th>\n",
              "      <td>0.8600</td>\n",
              "      <td>0.008631</td>\n",
              "    </tr>\n",
              "    <tr>\n",
              "      <th>LogisticRegression</th>\n",
              "      <td>0.8518</td>\n",
              "      <td>0.004251</td>\n",
              "    </tr>\n",
              "    <tr>\n",
              "      <th>MultinomialNB</th>\n",
              "      <td>0.7273</td>\n",
              "      <td>0.007379</td>\n",
              "    </tr>\n",
              "  </tbody>\n",
              "</table>\n",
              "</div>\n",
              "      <button class=\"colab-df-convert\" onclick=\"convertToInteractive('df-1778ed8b-80dd-489c-8869-ea922c866a7f')\"\n",
              "              title=\"Convert this dataframe to an interactive table.\"\n",
              "              style=\"display:none;\">\n",
              "        \n",
              "  <svg xmlns=\"http://www.w3.org/2000/svg\" height=\"24px\"viewBox=\"0 0 24 24\"\n",
              "       width=\"24px\">\n",
              "    <path d=\"M0 0h24v24H0V0z\" fill=\"none\"/>\n",
              "    <path d=\"M18.56 5.44l.94 2.06.94-2.06 2.06-.94-2.06-.94-.94-2.06-.94 2.06-2.06.94zm-11 1L8.5 8.5l.94-2.06 2.06-.94-2.06-.94L8.5 2.5l-.94 2.06-2.06.94zm10 10l.94 2.06.94-2.06 2.06-.94-2.06-.94-.94-2.06-.94 2.06-2.06.94z\"/><path d=\"M17.41 7.96l-1.37-1.37c-.4-.4-.92-.59-1.43-.59-.52 0-1.04.2-1.43.59L10.3 9.45l-7.72 7.72c-.78.78-.78 2.05 0 2.83L4 21.41c.39.39.9.59 1.41.59.51 0 1.02-.2 1.41-.59l7.78-7.78 2.81-2.81c.8-.78.8-2.07 0-2.86zM5.41 20L4 18.59l7.72-7.72 1.47 1.35L5.41 20z\"/>\n",
              "  </svg>\n",
              "      </button>\n",
              "      \n",
              "  <style>\n",
              "    .colab-df-container {\n",
              "      display:flex;\n",
              "      flex-wrap:wrap;\n",
              "      gap: 12px;\n",
              "    }\n",
              "\n",
              "    .colab-df-convert {\n",
              "      background-color: #E8F0FE;\n",
              "      border: none;\n",
              "      border-radius: 50%;\n",
              "      cursor: pointer;\n",
              "      display: none;\n",
              "      fill: #1967D2;\n",
              "      height: 32px;\n",
              "      padding: 0 0 0 0;\n",
              "      width: 32px;\n",
              "    }\n",
              "\n",
              "    .colab-df-convert:hover {\n",
              "      background-color: #E2EBFA;\n",
              "      box-shadow: 0px 1px 2px rgba(60, 64, 67, 0.3), 0px 1px 3px 1px rgba(60, 64, 67, 0.15);\n",
              "      fill: #174EA6;\n",
              "    }\n",
              "\n",
              "    [theme=dark] .colab-df-convert {\n",
              "      background-color: #3B4455;\n",
              "      fill: #D2E3FC;\n",
              "    }\n",
              "\n",
              "    [theme=dark] .colab-df-convert:hover {\n",
              "      background-color: #434B5C;\n",
              "      box-shadow: 0px 1px 3px 1px rgba(0, 0, 0, 0.15);\n",
              "      filter: drop-shadow(0px 1px 2px rgba(0, 0, 0, 0.3));\n",
              "      fill: #FFFFFF;\n",
              "    }\n",
              "  </style>\n",
              "\n",
              "      <script>\n",
              "        const buttonEl =\n",
              "          document.querySelector('#df-1778ed8b-80dd-489c-8869-ea922c866a7f button.colab-df-convert');\n",
              "        buttonEl.style.display =\n",
              "          google.colab.kernel.accessAllowed ? 'block' : 'none';\n",
              "\n",
              "        async function convertToInteractive(key) {\n",
              "          const element = document.querySelector('#df-1778ed8b-80dd-489c-8869-ea922c866a7f');\n",
              "          const dataTable =\n",
              "            await google.colab.kernel.invokeFunction('convertToInteractive',\n",
              "                                                     [key], {});\n",
              "          if (!dataTable) return;\n",
              "\n",
              "          const docLinkHtml = 'Like what you see? Visit the ' +\n",
              "            '<a target=\"_blank\" href=https://colab.research.google.com/notebooks/data_table.ipynb>data table notebook</a>'\n",
              "            + ' to learn more about interactive tables.';\n",
              "          element.innerHTML = '';\n",
              "          dataTable['output_type'] = 'display_data';\n",
              "          await google.colab.output.renderOutput(dataTable, element);\n",
              "          const docLink = document.createElement('div');\n",
              "          docLink.innerHTML = docLinkHtml;\n",
              "          element.appendChild(docLink);\n",
              "        }\n",
              "      </script>\n",
              "    </div>\n",
              "  </div>\n",
              "  "
            ]
          },
          "metadata": {},
          "execution_count": 19
        }
      ]
    },
    {
      "cell_type": "code",
      "source": [
        "plt.figure(figsize=(8,5))\n",
        "sns.boxplot(x='model_name', y='accuracy', \n",
        "            data=cv_df, \n",
        "            color='lightblue', \n",
        "            showmeans=True)\n",
        "plt.title(\"MEAN ACCURACY (cv = 5)\\n\", size=14);"
      ],
      "metadata": {
        "colab": {
          "base_uri": "https://localhost:8080/",
          "height": 368
        },
        "id": "w__s3ftGYbIp",
        "outputId": "a50d83a5-8488-46fb-997a-b6cc1381f93a"
      },
      "execution_count": null,
      "outputs": [
        {
          "output_type": "display_data",
          "data": {
            "text/plain": [
              "<Figure size 576x360 with 1 Axes>"
            ],
            "image/png": "[encoded data removed]"
          },
          "metadata": {
            "needs_background": "light"
          }
        }
      ]
    },
    {
      "cell_type": "markdown",
      "source": [
        "# **5. Train/Test data splitting**\n",
        "\n",
        "Split the data into 75% training and 25% testing, with stratified sampling, to make sure that the classes percentages in both training and testing data are (nearly) equal."
      ],
      "metadata": {
        "id": "YlrukaiJ5vyV"
      }
    },
    {
      "cell_type": "code",
      "source": [
        "X_train, X_test, y_train, y_test, indices_train, indices_test = train_test_split(X_vect, y, df_case_sample.index, test_size=0.25, random_state=42, stratify = y)"
      ],
      "metadata": {
        "id": "DP5msASBSnGE"
      },
      "execution_count": null,
      "outputs": []
    },
    {
      "cell_type": "markdown",
      "source": [
        "# **6. Model evaluation**"
      ],
      "metadata": {
        "id": "Az-mehGqUNSp"
      }
    },
    {
      "cell_type": "markdown",
      "source": [
        "To evaluate the model performance we will assess:\n",
        "* **Accuracy**: the percentage of texts that were categorized with the correct tag.\n",
        "* **Precision**: the percentage of examples the classifier got right out of the total number of examples that it predicted for a given tag.\n",
        "* **Recall**: the percentage of examples the classifier predicted for a given tag out of the total number of examples it should have predicted for that given tag.\n",
        "* **F1 Score**: the harmonic mean of precision and recall."
      ],
      "metadata": {
        "id": "uEwFUaGMWR6d"
      }
    },
    {
      "cell_type": "markdown",
      "source": [
        "## Multinomial Naive Bayes"
      ],
      "metadata": {
        "id": "B0pnvapmR7_y"
      }
    },
    {
      "cell_type": "code",
      "source": [
        "model_nb = MultinomialNB()\n",
        "model_nb.fit(X_train, y_train)\n",
        "y_pred_nb = model_nb.predict(X_test)"
      ],
      "metadata": {
        "id": "oIgVQ4c1TqhD"
      },
      "execution_count": null,
      "outputs": []
    },
    {
      "cell_type": "code",
      "source": [
        "# Classification report\n",
        "print('\\t\\t\\t\\tCLASSIFICATIION METRICS\\n')\n",
        "print(metrics.classification_report(y_test, y_pred_nb, target_names= df_case_sample['Product'].unique()))"
      ],
      "metadata": {
        "colab": {
          "base_uri": "https://localhost:8080/"
        },
        "id": "WvIW9AxKTrT1",
        "outputId": "293782b6-0588-442a-820b-0aff804c3771"
      },
      "execution_count": null,
      "outputs": [
        {
          "output_type": "stream",
          "name": "stdout",
          "text": [
            "\t\t\t\tCLASSIFICATIION METRICS\n",
            "\n",
            "                                                                              precision    recall  f1-score   support\n",
            "\n",
            "Credit reporting, credit repair services, or other personal consumer reports       0.67      0.97      0.79      1292\n",
            "                                                             Debt collection       0.94      0.65      0.77       272\n",
            "                                                 Credit card or prepaid card       0.82      0.50      0.62       535\n",
            "                                                                    Mortgage       0.68      0.29      0.40       264\n",
            "                                                 Checking or savings account       1.00      0.05      0.10       137\n",
            "\n",
            "                                                                    accuracy                           0.71      2500\n",
            "                                                                   macro avg       0.82      0.49      0.54      2500\n",
            "                                                                weighted avg       0.75      0.71      0.67      2500\n",
            "\n"
          ]
        }
      ]
    },
    {
      "cell_type": "code",
      "source": [
        "# Build Confusion matrix\n",
        "conf_mat_nb = confusion_matrix(y_test, y_pred_nb)\n",
        "fig, ax = plt.subplots(figsize=(8,8))\n",
        "sns.heatmap(conf_mat_nb, annot=True, cmap=\"Blues\", fmt='d',\n",
        "            xticklabels=df_category_id.Product.values, \n",
        "            yticklabels=df_category_id.Product.values)\n",
        "plt.ylabel('Actual')\n",
        "plt.xlabel('Predicted')\n",
        "plt.title(\"CONFUSION MATRIX - Multinomial Naive Bayes\\n\", size=16);"
      ],
      "metadata": {
        "colab": {
          "base_uri": "https://localhost:8080/",
          "height": 896
        },
        "id": "7iUhCqI_Tun3",
        "outputId": "89b3d450-b9f1-4fe6-8ec5-51480c464f6d"
      },
      "execution_count": null,
      "outputs": [
        {
          "output_type": "display_data",
          "data": {
            "text/plain": [
              "<Figure size 576x576 with 2 Axes>"
            ],
            "image/png": "[encoded data removed]"
          },
          "metadata": {
            "needs_background": "light"
          }
        }
      ]
    },
    {
      "cell_type": "markdown",
      "source": [
        "## Linear Support Vector Machine"
      ],
      "metadata": {
        "id": "OHqTetiISWb6"
      }
    },
    {
      "cell_type": "code",
      "source": [
        "model_svc = LinearSVC(random_state=42)\n",
        "model_svc.fit(X_train, y_train)\n",
        "y_pred_svc = model_svc.predict(X_test)"
      ],
      "metadata": {
        "id": "oKUTjJ7xSrco"
      },
      "execution_count": null,
      "outputs": []
    },
    {
      "cell_type": "code",
      "source": [
        "# Classification report\n",
        "print('\\t\\t\\t\\tCLASSIFICATIION METRICS\\n')\n",
        "print(metrics.classification_report(y_test, y_pred_svc, target_names= df_case_sample['Product'].unique()))"
      ],
      "metadata": {
        "colab": {
          "base_uri": "https://localhost:8080/"
        },
        "id": "q8Ch3V8YSyeX",
        "outputId": "7127a921-a26c-4b9e-f133-b40bc1451dab"
      },
      "execution_count": null,
      "outputs": [
        {
          "output_type": "stream",
          "name": "stdout",
          "text": [
            "\t\t\t\tCLASSIFICATIION METRICS\n",
            "\n",
            "                                                                              precision    recall  f1-score   support\n",
            "\n",
            "Credit reporting, credit repair services, or other personal consumer reports       0.88      0.90      0.89      1292\n",
            "                                                             Debt collection       0.91      0.90      0.90       272\n",
            "                                                 Credit card or prepaid card       0.79      0.76      0.77       535\n",
            "                                                                    Mortgage       0.79      0.75      0.77       264\n",
            "                                                 Checking or savings account       0.84      0.85      0.84       137\n",
            "\n",
            "                                                                    accuracy                           0.85      2500\n",
            "                                                                   macro avg       0.84      0.83      0.84      2500\n",
            "                                                                weighted avg       0.85      0.85      0.85      2500\n",
            "\n"
          ]
        }
      ]
    },
    {
      "cell_type": "code",
      "source": [
        "# Build Confusion matrix\n",
        "conf_mat_svc = confusion_matrix(y_test, y_pred_svc)\n",
        "fig, ax = plt.subplots(figsize=(8,8))\n",
        "sns.heatmap(conf_mat_svc, annot=True, cmap=\"Blues\", fmt='d',\n",
        "            xticklabels=df_category_id.Product.values, \n",
        "            yticklabels=df_category_id.Product.values)\n",
        "plt.ylabel('Actual')\n",
        "plt.xlabel('Predicted')\n",
        "plt.title(\"CONFUSION MATRIX - LinearSVC\\n\", size=16);"
      ],
      "metadata": {
        "colab": {
          "base_uri": "https://localhost:8080/",
          "height": 896
        },
        "id": "hYFM3MGXTA4j",
        "outputId": "567819ac-5edf-4ddb-f088-bd01bddffb80"
      },
      "execution_count": null,
      "outputs": [
        {
          "output_type": "display_data",
          "data": {
            "text/plain": [
              "<Figure size 576x576 with 2 Axes>"
            ],
            "image/png": "[encoded data removed]"
          },
          "metadata": {
            "needs_background": "light"
          }
        }
      ]
    },
    {
      "cell_type": "markdown",
      "source": [
        "## Logistic Regression"
      ],
      "metadata": {
        "id": "MFHxYmUcSY3k"
      }
    },
    {
      "cell_type": "code",
      "source": [
        "model_lr = LogisticRegression(random_state=42, max_iter = 200)\n",
        "model_lr.fit(X_train, y_train)\n",
        "y_pred_lr = model_lr.predict(X_test)"
      ],
      "metadata": {
        "id": "wvy58kXlYbff"
      },
      "execution_count": null,
      "outputs": []
    },
    {
      "cell_type": "code",
      "source": [
        "# Classification report\n",
        "print('\\t\\t\\t\\tCLASSIFICATIION METRICS\\n')\n",
        "print(metrics.classification_report(y_test, y_pred_lr, target_names= df_case_sample['Product'].unique()))"
      ],
      "metadata": {
        "colab": {
          "base_uri": "https://localhost:8080/"
        },
        "id": "4niauHyFCOGB",
        "outputId": "c74a8715-7cc7-4f9e-bad0-c319be1a1aaf"
      },
      "execution_count": null,
      "outputs": [
        {
          "output_type": "stream",
          "name": "stdout",
          "text": [
            "\t\t\t\tCLASSIFICATIION METRICS\n",
            "\n",
            "                                                                              precision    recall  f1-score   support\n",
            "\n",
            "Credit reporting, credit repair services, or other personal consumer reports       0.85      0.93      0.89      1292\n",
            "                                                             Debt collection       0.92      0.85      0.89       272\n",
            "                                                 Credit card or prepaid card       0.80      0.73      0.76       535\n",
            "                                                                    Mortgage       0.79      0.70      0.75       264\n",
            "                                                 Checking or savings account       0.94      0.76      0.84       137\n",
            "\n",
            "                                                                    accuracy                           0.84      2500\n",
            "                                                                   macro avg       0.86      0.79      0.82      2500\n",
            "                                                                weighted avg       0.84      0.84      0.84      2500\n",
            "\n"
          ]
        }
      ]
    },
    {
      "cell_type": "code",
      "source": [
        "# Build Confusion matrix\n",
        "conf_mat_lr = confusion_matrix(y_test, y_pred_lr)\n",
        "fig, ax = plt.subplots(figsize=(8,8))\n",
        "sns.heatmap(conf_mat_lr, annot=True, cmap=\"Blues\", fmt='d',\n",
        "            xticklabels=df_category_id.Product.values, \n",
        "            yticklabels=df_category_id.Product.values)\n",
        "plt.ylabel('Actual')\n",
        "plt.xlabel('Predicted')\n",
        "plt.title(\"CONFUSION MATRIX - Logistic Regression\\n\", size=16);"
      ],
      "metadata": {
        "colab": {
          "base_uri": "https://localhost:8080/"
        },
        "id": "sqeYB8EVUbVz",
        "outputId": "d80b25f4-d73f-4a66-8ce4-ffc6ab51b470"
      },
      "execution_count": null,
      "outputs": [
        {
          "output_type": "display_data",
          "data": {
            "text/plain": [
              "<Figure size 576x576 with 2 Axes>"
            ],
            "image/png": "[encoded data removed]"
          },
          "metadata": {
            "needs_background": "light"
          }
        }
      ]
    },
    {
      "cell_type": "markdown",
      "source": [
        "# **7. Further steps and improvements**"
      ],
      "metadata": {
        "id": "mXmdgqDDESes"
      }
    },
    {
      "cell_type": "markdown",
      "source": [
        "There are obviously lots of other things that can be done to improve the performance and accuracy of ML model(s).\n",
        "* Expand classification to all categories (Products).\n",
        "* Increase the number of samples and run the code in different environment (Google Colab seems to run out of memory when using over 10000 samples).\n",
        "* Make sure that the model is not over-fitting on the training data, and it generalizes well on the whole data, the more the model generalizes the better it performs.\n",
        "> This can be achieved with k-fold Cross Validation (similar to what was used when comparing models' accuracy in the \"**Model Selection**\" section above). That way we make sure that the whole data is exposed to the model, so we don’t just fit the model on the training data, instead, we split the training data into k-folds and for each fold we do the following:\n",
        "> * Train the model using the k-1 folds.\n",
        "> * Use the remaining fold as a validation set.\n",
        ">\n",
        "> After performing the previous two steps for each fold we finally evaluate the model using the held out test set.\n",
        "\n",
        "* Find a set of optimal hyper-parameters for our model that yields the best results.\n",
        "> This can be achieved by performing a Grid Search.\n",
        "Sklearn supports both cross validation (from the point above) and hyper-parameters tuning in one place: ***GridSearchCV***\n",
        "\n",
        "* Dimensionality Reduction\n",
        "> Even though we removed stop words and are applying thresholds to the tf-idf vectorizer, it still leaves us with a lot of unique words, many of which we probably don’t need and are redundant.\n",
        ">\n",
        "> Perform Latent Semantic Analysis (LSA) which is a dimensionality reduction technique. LSA uses Singular Value Decomposition (SVD) to reduce the number of dimensions and select the best ones.\n",
        "\n",
        "* Explore the misclassified complaints and try to figure out ways to improve the outcome.\n",
        "\n",
        "* Evaluate possibility of using Deep Learning for text classification\n",
        "> Deep learning architectures offer huge benefits for text classification because they perform at super high accuracy with lower-level engineering and computation.\n",
        ">\n",
        ">The two main deep learning architectures for text classification are Convolutional Neural Networks (CNN) and Recurrent Neural Networks (RNN). Possible problem with particular dataset is that Deep learning algorithms do require much more training data than traditional machine learning algorithms (at least millions of tagged examples)."
      ],
      "metadata": {
        "id": "SsoOn7WYFJbe"
      }
    },
    {
      "cell_type": "code",
      "source": [
        ""
      ],
      "metadata": {
        "id": "c0B6xKtUElKN"
      },
      "execution_count": null,
      "outputs": []
    }
  ]
}